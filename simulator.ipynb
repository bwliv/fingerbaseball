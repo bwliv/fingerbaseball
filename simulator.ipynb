{
 "cells": [
  {
   "cell_type": "code",
   "execution_count": 1,
   "metadata": {
    "scrolled": false
   },
   "outputs": [
    {
     "name": "stdout",
     "output_type": "stream",
     "text": [
      "Out!! Home 0, Away 0 in the Top of the 1st, with no runners on\n",
      "Out!! Home 0, Away 0 in the Top of the 1st, with no runners on\n",
      "Out!! Home 0, Away 0 in the Bottom of the 1st, with no runners on\n",
      "Out! Home 0, Away 0 in the Bottom of the 1st, with no runners on\n",
      "Out! Home 0, Away 0 in the Bottom of the 1st, with no runners on\n",
      "Out! Home 0, Away 0 in the Top of the 2nd, with no runners on\n",
      "Double! Home 0, Away 0 in the Top of the 2nd, with runner(s) on 2nd\n",
      "Out!! Home 0, Away 0 in the Top of the 2nd, with runner(s) on 2nd\n",
      "Out!! Home 0, Away 0 in the Top of the 2nd, with runner(s) on 2nd\n",
      "Home Run! Away 2, Home 0 in the Top of the 2nd, with no runners on\n",
      "Out!! Away 2, Home 0 in the Bottom of the 2nd, with no runners on\n",
      "Out! Away 2, Home 0 in the Bottom of the 2nd, with no runners on\n",
      "Out! Away 2, Home 0 in the Bottom of the 2nd, with no runners on\n",
      "Out! Away 2, Home 0 in the Top of the 3rd, with no runners on\n",
      "Grand Slam! Away 6, Home 0 in the Top of the 3rd, with no runners on\n",
      "Out!! Away 6, Home 0 in the Top of the 3rd, with no runners on\n",
      "Out!! Away 6, Home 0 in the Top of the 3rd, with no runners on\n",
      "Double! Away 6, Home 0 in the Top of the 3rd, with runner(s) on 2nd\n",
      "Out!! Away 6, Home 0 in the Bottom of the 3rd, with no runners on\n",
      "Out! Away 6, Home 0 in the Bottom of the 3rd, with no runners on\n",
      "Out! Away 6, Home 0 in the Bottom of the 3rd, with no runners on\n",
      "Out! Away 6, Home 0 in the Top of the 4th, with no runners on\n",
      "Out!! Away 6, Home 0 in the Top of the 4th, with no runners on\n",
      "Grand Slam! Away 10, Home 0 in the Top of the 4th, with no runners on\n",
      "Out!! Away 10, Home 0 in the Top of the 4th, with no runners on\n",
      "Double! Away 10, Home 0 in the Top of the 4th, with runner(s) on 2nd\n",
      "Out!! Away 10, Home 0 in the Bottom of the 4th, with no runners on\n",
      "Out! Away 10, Home 0 in the Bottom of the 4th, with no runners on\n",
      "Out! Away 10, Home 0 in the Bottom of the 4th, with no runners on\n",
      "Out! Away 10, Home 0 in the Top of the 5th, with no runners on\n",
      "Out!! Away 10, Home 0 in the Top of the 5th, with no runners on\n",
      "Out!! Away 10, Home 0 in the Top of the 5th, with no runners on\n",
      "Out!! Away 10, Home 0 in the Bottom of the 5th, with no runners on\n",
      "Triple! Away 10, Home 0 in the Bottom of the 5th, with runner(s) on 3rd\n",
      "Triple! Away 10, Home 1 in the Bottom of the 5th, with runner(s) on 3rd\n",
      "Out! Away 10, Home 1 in the Bottom of the 5th, with runner(s) on 3rd\n",
      "Grand Slam! Away 10, Home 6 in the Bottom of the 5th, with no runners on\n",
      "Out! Away 10, Home 6 in the Bottom of the 5th, with no runners on\n",
      "Out! Away 10, Home 6 in the Top of the 6th, with no runners on\n",
      "Triple! Away 10, Home 6 in the Top of the 6th, with runner(s) on 3rd\n",
      "Triple! Away 11, Home 6 in the Top of the 6th, with runner(s) on 3rd\n",
      "Out!! Away 11, Home 6 in the Top of the 6th, with runner(s) on 3rd\n",
      "Out!! Away 11, Home 6 in the Top of the 6th, with runner(s) on 3rd\n",
      "Out!! Away 11, Home 6 in the Bottom of the 6th, with no runners on\n",
      "Out! Away 11, Home 6 in the Bottom of the 6th, with no runners on\n",
      "Double! Away 11, Home 6 in the Bottom of the 6th, with runner(s) on 2nd\n",
      "Out! Away 11, Home 6 in the Bottom of the 6th, with runner(s) on 2nd\n",
      "Out! Away 11, Home 6 in the Top of the 7th, with no runners on\n",
      "Out!! Away 11, Home 6 in the Top of the 7th, with no runners on\n",
      "Grand Slam! Away 15, Home 6 in the Top of the 7th, with no runners on\n",
      "Single! Away 15, Home 6 in the Top of the 7th, with runner(s) on 1st\n",
      "Out!! Away 15, Home 6 in the Top of the 7th, with runner(s) on 1st\n",
      "Out!! Away 15, Home 6 in the Bottom of the 7th, with no runners on\n",
      "Out! Away 15, Home 6 in the Bottom of the 7th, with no runners on\n",
      "Double! Away 15, Home 6 in the Bottom of the 7th, with runner(s) on 2nd\n",
      "Out! Away 15, Home 6 in the Bottom of the 7th, with runner(s) on 2nd\n",
      "Out! Away 15, Home 6 in the Top of the 8th, with no runners on\n",
      "Double! Away 15, Home 6 in the Top of the 8th, with runner(s) on 2nd\n",
      "Out!! Away 15, Home 6 in the Top of the 8th, with runner(s) on 2nd\n",
      "Out!! Away 15, Home 6 in the Top of the 8th, with runner(s) on 2nd\n",
      "Out!! Away 15, Home 6 in the Bottom of the 8th, with no runners on\n",
      "Out! Away 15, Home 6 in the Bottom of the 8th, with no runners on\n",
      "Out! Away 15, Home 6 in the Bottom of the 8th, with no runners on\n",
      "Out! Away 15, Home 6 in the Top of the 9th, with no runners on\n",
      "Out!! Away 15, Home 6 in the Top of the 9th, with no runners on\n",
      "Out!! Away 15, Home 6 in the Top of the 9th, with no runners on\n",
      "Grand Slam! Away 19, Home 6 in the Top of the 9th, with no runners on\n",
      "Out!! Away 19, Home 6 in the Bottom of the 9th, with no runners on\n",
      "Out! Away 19, Home 6 in the Bottom of the 9th, with no runners on\n",
      "Out! Away 19, Home 6 in the Bottom of the 9th, with no runners on\n",
      "Single! Away 19, Home 6 in the Bottom of the 9th, with runner(s) on 1st\n",
      "Triple! Away 19, Home 7 in the Bottom of the 9th, with runner(s) on 1st 3rd\n",
      "Out! Away 19, Home 7 in the Bottom of the 9th, with runner(s) on 1st 3rd\n"
     ]
    }
   ],
   "source": [
    "%run random_game.py"
   ]
  }
 ],
 "metadata": {
  "kernelspec": {
   "display_name": "Python 3",
   "language": "python",
   "name": "python3"
  },
  "language_info": {
   "codemirror_mode": {
    "name": "ipython",
    "version": 3
   },
   "file_extension": ".py",
   "mimetype": "text/x-python",
   "name": "python",
   "nbconvert_exporter": "python",
   "pygments_lexer": "ipython3",
   "version": "3.7.3"
  }
 },
 "nbformat": 4,
 "nbformat_minor": 2
}
